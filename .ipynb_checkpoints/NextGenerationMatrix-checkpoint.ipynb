{
 "cells": [
  {
   "cell_type": "code",
   "execution_count": 79,
   "id": "d719623e-3a3c-49ec-b0f6-2011b35ca3c8",
   "metadata": {},
   "outputs": [],
   "source": [
    "from sympy import *\n",
    "import numpy as np\n",
    "import math"
   ]
  },
  {
   "cell_type": "code",
   "execution_count": 22,
   "id": "818ba3c0-4a34-4863-a68e-f82b137106b4",
   "metadata": {},
   "outputs": [],
   "source": [
    "N, β, Λ, μ, α, ν, u, v, δ, ρ = symbols(\"N, beta, Lambda, mu, alpha, nu, u, v, delta, rho\")"
   ]
  },
  {
   "cell_type": "code",
   "execution_count": 23,
   "id": "b56448df-cafa-4897-8320-b3b6d558dc0f",
   "metadata": {},
   "outputs": [],
   "source": [
    "dudt = v*β*Λ/(N*μ) - u*(α + ν)\n",
    "\n",
    "dvdt = ν*u - v*(δ + ρ)"
   ]
  },
  {
   "cell_type": "code",
   "execution_count": 73,
   "id": "e0f4a79a-5e9a-47fb-9c1f-8747c39759b6",
   "metadata": {},
   "outputs": [
    {
     "data": {
      "text/latex": [
       "$\\displaystyle \\left[\\begin{matrix}- \\alpha - \\mu - \\nu & \\frac{\\Lambda \\beta}{N \\mu}\\\\\\nu & - \\delta - \\mu - \\rho\\end{matrix}\\right]$"
      ],
      "text/plain": [
       "Matrix([\n",
       "[-alpha - mu - nu, Lambda*beta/(N*mu)],\n",
       "[              nu,  -delta - mu - rho]])"
      ]
     },
     "execution_count": 73,
     "metadata": {},
     "output_type": "execute_result"
    }
   ],
   "source": [
    "J = Matrix([[diff(dudt, u), diff(dudt, v)], [diff(dvdt, u), diff(dvdt, v)]])\n",
    "J"
   ]
  },
  {
   "cell_type": "code",
   "execution_count": 74,
   "id": "18080af0-4ac7-4c1c-8400-4e375dc9fbc7",
   "metadata": {},
   "outputs": [
    {
     "data": {
      "text/latex": [
       "$\\displaystyle \\left[\\begin{matrix}- \\alpha - \\mu - \\nu & 0\\\\\\nu & - \\delta - \\mu - \\rho\\end{matrix}\\right]$"
      ],
      "text/plain": [
       "Matrix([\n",
       "[-alpha - mu - nu,                 0],\n",
       "[              nu, -delta - mu - rho]])"
      ]
     },
     "execution_count": 74,
     "metadata": {},
     "output_type": "execute_result"
    }
   ],
   "source": [
    "M = Matrix([[0, J[1]], [0, 0]])\n",
    "Q = Matrix([[J[0], 0], [J[2], J[3]]])\n",
    "Q"
   ]
  },
  {
   "cell_type": "code",
   "execution_count": 78,
   "id": "6d93da73-fb81-4612-95dc-e4beb4fbdb0c",
   "metadata": {},
   "outputs": [
    {
     "data": {
      "text/latex": [
       "$\\displaystyle \\left[\\begin{matrix}\\frac{1}{- \\alpha - \\mu - \\nu} & 0\\\\- \\frac{\\nu}{\\alpha \\delta + \\alpha \\mu + \\alpha \\rho + \\delta \\mu + \\delta \\nu + \\mu^{2} + \\mu \\nu + \\mu \\rho + \\nu \\rho} & - \\frac{1}{\\delta + \\mu + \\rho}\\end{matrix}\\right]$"
      ],
      "text/plain": [
       "Matrix([\n",
       "[                                                                            1/(-alpha - mu - nu),                     0],\n",
       "[-nu/(alpha*delta + alpha*mu + alpha*rho + delta*mu + delta*nu + mu**2 + mu*nu + mu*rho + nu*rho), -1/(delta + mu + rho)]])"
      ]
     },
     "execution_count": 78,
     "metadata": {},
     "output_type": "execute_result"
    }
   ],
   "source": [
    "Q_inv = Q.inv()\n",
    "Q_inv"
   ]
  },
  {
   "cell_type": "code",
   "execution_count": 46,
   "id": "9f617630-5510-4e59-b1b1-2e5795d3625f",
   "metadata": {},
   "outputs": [
    {
     "data": {
      "text/latex": [
       "$\\displaystyle \\left[\\begin{matrix}\\frac{\\Lambda \\beta \\nu}{N \\mu \\left(\\alpha \\delta + \\alpha \\mu + \\alpha \\rho + \\delta \\mu + \\delta \\nu + \\mu^{2} + \\mu \\nu + \\mu \\rho + \\nu \\rho\\right)} & \\frac{\\Lambda \\beta}{N \\mu \\left(\\delta + \\mu + \\rho\\right)}\\\\0 & 0\\end{matrix}\\right]$"
      ],
      "text/plain": [
       "Matrix([\n",
       "[Lambda*beta*nu/(N*mu*(alpha*delta + alpha*mu + alpha*rho + delta*mu + delta*nu + mu**2 + mu*nu + mu*rho + nu*rho)), Lambda*beta/(N*mu*(delta + mu + rho))],\n",
       "[                                                                                                                 0,                                     0]])"
      ]
     },
     "execution_count": 46,
     "metadata": {},
     "output_type": "execute_result"
    }
   ],
   "source": [
    "K = -M*Q_inv\n",
    "K"
   ]
  },
  {
   "cell_type": "code",
   "execution_count": 55,
   "id": "dcebb2c7-f92a-45ac-91c6-e7cb8495016f",
   "metadata": {},
   "outputs": [
    {
     "data": {
      "text/latex": [
       "$\\displaystyle \\frac{\\Lambda \\beta \\nu}{N \\mu \\left(\\alpha + \\mu + \\nu\\right) \\left(\\delta + \\mu + \\rho\\right)}$"
      ],
      "text/plain": [
       "Lambda*beta*nu/(N*mu*(alpha + mu + nu)*(delta + mu + rho))"
      ]
     },
     "execution_count": 55,
     "metadata": {},
     "output_type": "execute_result"
    }
   ],
   "source": [
    "R_0 = list(K.eigenvals())[1]\n",
    "R_0"
   ]
  },
  {
   "cell_type": "code",
   "execution_count": 107,
   "id": "6ca9c4a9-8972-4f5f-bdf6-1410361cd058",
   "metadata": {},
   "outputs": [
    {
     "data": {
      "text/plain": [
       "2.3647948845286835"
      ]
     },
     "execution_count": 107,
     "metadata": {},
     "output_type": "execute_result"
    }
   ],
   "source": [
    "Λ = 840832/12\n",
    "β = 0.822826694350057\n",
    "ρ = 1.06130858436475\n",
    "δ = 0.413005184140371\n",
    "ν = 0.77217109901724\n",
    "α = 0.248793807134004\n",
    "N = 125050000\n",
    "μ = 1e-4 # ここの推定がむずい\n",
    "\n",
    "β*ν*Λ/(N*μ*(α + μ + ν)*(δ + μ + ρ))"
   ]
  },
  {
   "cell_type": "code",
   "execution_count": 63,
   "id": "4e4f48fb-8fd4-4652-8195-8d34b343f06e",
   "metadata": {},
   "outputs": [],
   "source": [
    "from sympy import *\n",
    "import numpy as np"
   ]
  },
  {
   "cell_type": "markdown",
   "id": "86d3397f-f4a5-42c0-a44d-091ef2e0d13d",
   "metadata": {},
   "source": [
    "# New Model's Next-Generation Matrix"
   ]
  },
  {
   "cell_type": "markdown",
   "id": "928d5fc4-9378-4909-a856-318157df9733",
   "metadata": {},
   "source": [
    "## Normal SEIR model"
   ]
  },
  {
   "cell_type": "code",
   "execution_count": 2,
   "id": "a3d26f2b-7daf-40ee-a200-005fa1754c36",
   "metadata": {},
   "outputs": [],
   "source": [
    "from sympy import *\n",
    "import numpy as np\n",
    "import math"
   ]
  },
  {
   "cell_type": "code",
   "execution_count": 4,
   "id": "474f7380-3dc4-406a-acb2-76304a0558b9",
   "metadata": {},
   "outputs": [],
   "source": [
    "N, β, α, ν, u, v, δ, ρ, S_0 = symbols(\"N, beta, alpha, nu, u, v, delta, rho, S_0\")"
   ]
  },
  {
   "cell_type": "code",
   "execution_count": 5,
   "id": "458c3e9a-30df-4a1e-a62a-06e1661ad9a6",
   "metadata": {},
   "outputs": [],
   "source": [
    "dudt = β*v*S_0/N - (ν + α)*u\n",
    "dvdt = ν*u - (ρ + δ)*v"
   ]
  },
  {
   "cell_type": "code",
   "execution_count": 6,
   "id": "5c1431d1-1c3d-4e6b-b307-20588fda4bfc",
   "metadata": {},
   "outputs": [
    {
     "data": {
      "text/latex": [
       "$\\displaystyle \\left[\\begin{matrix}- \\alpha - \\nu & \\frac{S_{0} \\beta}{N}\\\\\\nu & - \\delta - \\rho\\end{matrix}\\right]$"
      ],
      "text/plain": [
       "Matrix([\n",
       "[-alpha - nu,   S_0*beta/N],\n",
       "[         nu, -delta - rho]])"
      ]
     },
     "execution_count": 6,
     "metadata": {},
     "output_type": "execute_result"
    }
   ],
   "source": [
    "J = Matrix([[diff(dudt, u), diff(dudt, v)], [diff(dvdt, u), diff(dvdt, v)]])\n",
    "J"
   ]
  },
  {
   "cell_type": "code",
   "execution_count": 7,
   "id": "8f6bc8eb-2425-4ec6-8242-19cc1464d3fe",
   "metadata": {},
   "outputs": [],
   "source": [
    "M = Matrix([[0, J[1]], [0, 0]])\n",
    "Q = Matrix([[J[0], 0], [J[2], J[3]]])"
   ]
  },
  {
   "cell_type": "code",
   "execution_count": 8,
   "id": "c5d98289-5522-4c57-82b9-34270223a3bb",
   "metadata": {},
   "outputs": [
    {
     "data": {
      "text/latex": [
       "$\\displaystyle \\left[\\begin{matrix}0 & \\frac{S_{0} \\beta}{N}\\\\0 & 0\\end{matrix}\\right]$"
      ],
      "text/plain": [
       "Matrix([\n",
       "[0, S_0*beta/N],\n",
       "[0,          0]])"
      ]
     },
     "execution_count": 8,
     "metadata": {},
     "output_type": "execute_result"
    }
   ],
   "source": [
    "M"
   ]
  },
  {
   "cell_type": "code",
   "execution_count": 9,
   "id": "8862115e-b14a-40e0-a7d1-f9fcaeb30613",
   "metadata": {},
   "outputs": [
    {
     "data": {
      "text/latex": [
       "$\\displaystyle \\left[\\begin{matrix}- \\alpha - \\nu & 0\\\\\\nu & - \\delta - \\rho\\end{matrix}\\right]$"
      ],
      "text/plain": [
       "Matrix([\n",
       "[-alpha - nu,            0],\n",
       "[         nu, -delta - rho]])"
      ]
     },
     "execution_count": 9,
     "metadata": {},
     "output_type": "execute_result"
    }
   ],
   "source": [
    "Q"
   ]
  },
  {
   "cell_type": "code",
   "execution_count": 10,
   "id": "8a78a4eb-36d6-4ebd-91bc-ef9ec7016d8e",
   "metadata": {},
   "outputs": [
    {
     "data": {
      "text/latex": [
       "$\\displaystyle \\left[\\begin{matrix}\\frac{1}{- \\alpha - \\nu} & 0\\\\- \\frac{\\nu}{\\alpha \\delta + \\alpha \\rho + \\delta \\nu + \\nu \\rho} & - \\frac{1}{\\delta + \\rho}\\end{matrix}\\right]$"
      ],
      "text/plain": [
       "Matrix([\n",
       "[                                  1/(-alpha - nu),                0],\n",
       "[-nu/(alpha*delta + alpha*rho + delta*nu + nu*rho), -1/(delta + rho)]])"
      ]
     },
     "execution_count": 10,
     "metadata": {},
     "output_type": "execute_result"
    }
   ],
   "source": [
    "Q_inv = Q.inv()\n",
    "Q_inv"
   ]
  },
  {
   "cell_type": "code",
   "execution_count": 11,
   "id": "b0a1eef8-ac41-4ea0-834f-ae5e590e2b61",
   "metadata": {},
   "outputs": [
    {
     "data": {
      "text/latex": [
       "$\\displaystyle \\left[\\begin{matrix}\\frac{S_{0} \\beta \\nu}{N \\left(\\alpha \\delta + \\alpha \\rho + \\delta \\nu + \\nu \\rho\\right)} & \\frac{S_{0} \\beta}{N \\left(\\delta + \\rho\\right)}\\\\0 & 0\\end{matrix}\\right]$"
      ],
      "text/plain": [
       "Matrix([\n",
       "[S_0*beta*nu/(N*(alpha*delta + alpha*rho + delta*nu + nu*rho)), S_0*beta/(N*(delta + rho))],\n",
       "[                                                            0,                          0]])"
      ]
     },
     "execution_count": 11,
     "metadata": {},
     "output_type": "execute_result"
    }
   ],
   "source": [
    "K = -M*Q_inv\n",
    "K"
   ]
  },
  {
   "cell_type": "code",
   "execution_count": 12,
   "id": "55ec1633-b57d-481f-8c43-332bcb38e4f8",
   "metadata": {},
   "outputs": [
    {
     "data": {
      "text/latex": [
       "$\\displaystyle \\frac{S_{0} \\beta \\nu}{N \\left(\\alpha + \\nu\\right) \\left(\\delta + \\rho\\right)}$"
      ],
      "text/plain": [
       "S_0*beta*nu/(N*(alpha + nu)*(delta + rho))"
      ]
     },
     "execution_count": 12,
     "metadata": {},
     "output_type": "execute_result"
    }
   ],
   "source": [
    "R_0 = list(K.eigenvals())[1]\n",
    "R_0"
   ]
  },
  {
   "cell_type": "markdown",
   "id": "dded9dfa-36d6-4d7e-8fd1-66e30fbe4a5d",
   "metadata": {},
   "source": [
    "## Vaccination SEIRV model"
   ]
  },
  {
   "cell_type": "code",
   "execution_count": 13,
   "id": "1d49f0d5-be74-4b06-8243-495b6e3aace7",
   "metadata": {},
   "outputs": [],
   "source": [
    "N, β, α, ν, u, v, δ, ρ, S_0, gamma_2 = symbols(\"N, beta, alpha, nu, u, v, delta, rho, S_0, gamma_2\")"
   ]
  },
  {
   "cell_type": "code",
   "execution_count": 14,
   "id": "f51fa52a-547d-43e4-b2c3-86b55aa8a117",
   "metadata": {},
   "outputs": [],
   "source": [
    "dudt = β*v*S_0/N - (ν + α + gamma_2)*u\n",
    "dvdt = ν*u - (ρ + δ)*v"
   ]
  },
  {
   "cell_type": "code",
   "execution_count": 15,
   "id": "4e04430e-fb50-41a5-8484-11d61ae16940",
   "metadata": {},
   "outputs": [
    {
     "data": {
      "text/latex": [
       "$\\displaystyle \\left[\\begin{matrix}- \\alpha - \\gamma_{2} - \\nu & \\frac{S_{0} \\beta}{N}\\\\\\nu & - \\delta - \\rho\\end{matrix}\\right]$"
      ],
      "text/plain": [
       "Matrix([\n",
       "[-alpha - gamma_2 - nu,   S_0*beta/N],\n",
       "[                   nu, -delta - rho]])"
      ]
     },
     "execution_count": 15,
     "metadata": {},
     "output_type": "execute_result"
    }
   ],
   "source": [
    "J = Matrix([[diff(dudt, u), diff(dudt, v)], [diff(dvdt, u), diff(dvdt, v)]])\n",
    "J"
   ]
  },
  {
   "cell_type": "code",
   "execution_count": 16,
   "id": "f38fdbd4-e1a5-41e9-9984-1f829a8f9d7f",
   "metadata": {},
   "outputs": [],
   "source": [
    "M = Matrix([[0, J[1]], [0, 0]])\n",
    "Q = Matrix([[J[0], 0], [J[2], J[3]]])"
   ]
  },
  {
   "cell_type": "code",
   "execution_count": 17,
   "id": "42b15375-2481-42e8-a09b-118cc96962ce",
   "metadata": {},
   "outputs": [
    {
     "data": {
      "text/latex": [
       "$\\displaystyle \\left[\\begin{matrix}0 & \\frac{S_{0} \\beta}{N}\\\\0 & 0\\end{matrix}\\right]$"
      ],
      "text/plain": [
       "Matrix([\n",
       "[0, S_0*beta/N],\n",
       "[0,          0]])"
      ]
     },
     "execution_count": 17,
     "metadata": {},
     "output_type": "execute_result"
    }
   ],
   "source": [
    "M"
   ]
  },
  {
   "cell_type": "code",
   "execution_count": 18,
   "id": "147ee43b-da6d-4294-90bf-755bf2c0d605",
   "metadata": {},
   "outputs": [
    {
     "data": {
      "text/latex": [
       "$\\displaystyle \\left[\\begin{matrix}- \\alpha - \\gamma_{2} - \\nu & 0\\\\\\nu & - \\delta - \\rho\\end{matrix}\\right]$"
      ],
      "text/plain": [
       "Matrix([\n",
       "[-alpha - gamma_2 - nu,            0],\n",
       "[                   nu, -delta - rho]])"
      ]
     },
     "execution_count": 18,
     "metadata": {},
     "output_type": "execute_result"
    }
   ],
   "source": [
    "Q"
   ]
  },
  {
   "cell_type": "code",
   "execution_count": 19,
   "id": "076000d3-5fa9-486f-922b-2eb8df237822",
   "metadata": {},
   "outputs": [
    {
     "data": {
      "text/latex": [
       "$\\displaystyle \\left[\\begin{matrix}\\frac{1}{- \\alpha - \\gamma_{2} - \\nu} & 0\\\\- \\frac{\\nu}{\\alpha \\delta + \\alpha \\rho + \\delta \\gamma_{2} + \\delta \\nu + \\gamma_{2} \\rho + \\nu \\rho} & - \\frac{1}{\\delta + \\rho}\\end{matrix}\\right]$"
      ],
      "text/plain": [
       "Matrix([\n",
       "[                                                      1/(-alpha - gamma_2 - nu),                0],\n",
       "[-nu/(alpha*delta + alpha*rho + delta*gamma_2 + delta*nu + gamma_2*rho + nu*rho), -1/(delta + rho)]])"
      ]
     },
     "execution_count": 19,
     "metadata": {},
     "output_type": "execute_result"
    }
   ],
   "source": [
    "Q_inv = Q.inv()\n",
    "Q_inv"
   ]
  },
  {
   "cell_type": "code",
   "execution_count": 20,
   "id": "d786113c-b4e7-4485-a4d0-c87ec84ea6d9",
   "metadata": {},
   "outputs": [
    {
     "data": {
      "text/latex": [
       "$\\displaystyle \\left[\\begin{matrix}\\frac{S_{0} \\beta \\nu}{N \\left(\\alpha \\delta + \\alpha \\rho + \\delta \\gamma_{2} + \\delta \\nu + \\gamma_{2} \\rho + \\nu \\rho\\right)} & \\frac{S_{0} \\beta}{N \\left(\\delta + \\rho\\right)}\\\\0 & 0\\end{matrix}\\right]$"
      ],
      "text/plain": [
       "Matrix([\n",
       "[S_0*beta*nu/(N*(alpha*delta + alpha*rho + delta*gamma_2 + delta*nu + gamma_2*rho + nu*rho)), S_0*beta/(N*(delta + rho))],\n",
       "[                                                                                          0,                          0]])"
      ]
     },
     "execution_count": 20,
     "metadata": {},
     "output_type": "execute_result"
    }
   ],
   "source": [
    "K = -M*Q_inv\n",
    "K"
   ]
  },
  {
   "cell_type": "code",
   "execution_count": 21,
   "id": "7f1593b3-6de8-40bd-aaaf-a9472f82c883",
   "metadata": {},
   "outputs": [
    {
     "data": {
      "text/latex": [
       "$\\displaystyle \\frac{S_{0} \\beta \\nu}{N \\left(\\delta + \\rho\\right) \\left(\\alpha + \\gamma_{2} + \\nu\\right)}$"
      ],
      "text/plain": [
       "S_0*beta*nu/(N*(delta + rho)*(alpha + gamma_2 + nu))"
      ]
     },
     "execution_count": 21,
     "metadata": {},
     "output_type": "execute_result"
    }
   ],
   "source": [
    "R_0 = list(K.eigenvals())[1]\n",
    "R_0"
   ]
  },
  {
   "cell_type": "markdown",
   "id": "deb8dca2-6a30-44cd-8133-4d426c7bbf46",
   "metadata": {},
   "source": [
    "# Basic Reproduction Number calculator"
   ]
  },
  {
   "cell_type": "code",
   "execution_count": 63,
   "id": "8e80b6a5-0104-4fe5-b839-872165cd1182",
   "metadata": {},
   "outputs": [],
   "source": [
    "N = 125050000\n",
    "S0 = 54709945\n",
    "# parameter_str = \"delta=0.1, rho=1, nu=0.616924082661425, beta=0.604797385420912, alpha=0.2, gamma_1=0.1, gamma_2=0.7\"\n",
    "parameter_str = \"delta=0, rho=0.8, nu=1, beta=1, alpha=0, gamma_1=0.7, gamma_2=0.1\"\n",
    "\n",
    "parameters = parameter_str.split(\", \")\n",
    "parameters_num_list = [p[p.find(\"=\")+1:] for p in parameters]\n",
    "parameters_name_list = [p[:p.find(\"=\")] for p in parameters]\n",
    "\n",
    "pd = {} # parameter_dictionary\n",
    "\n",
    "for i in range(len(parameters)):\n",
    "    pd[parameters_name_list[i]] = float(parameters_num_list[i])"
   ]
  },
  {
   "cell_type": "code",
   "execution_count": 64,
   "id": "abe6bbf4-42ee-4547-803c-36578276b925",
   "metadata": {},
   "outputs": [],
   "source": [
    "R_0_normal = (pd[\"beta\"]*S0*pd[\"nu\"])/(N*(pd[\"nu\"]+pd[\"alpha\"])*(pd[\"rho\"]+pd[\"delta\"]))\n",
    "R_0_vac = (pd[\"beta\"]*S0*pd[\"nu\"])/(N*(pd[\"nu\"]+pd[\"alpha\"]+pd[\"gamma_2\"])*(pd[\"rho\"]+pd[\"delta\"]))"
   ]
  },
  {
   "cell_type": "code",
   "execution_count": 65,
   "id": "c1a1faf0-c44a-4de1-b09f-3ef0f4ed83ba",
   "metadata": {},
   "outputs": [
    {
     "name": "stdout",
     "output_type": "stream",
     "text": [
      "0.5468806977209116\n",
      "0.4971642706553742\n"
     ]
    }
   ],
   "source": [
    "print(R_0_normal)\n",
    "print(R_0_vac)"
   ]
  },
  {
   "cell_type": "code",
   "execution_count": 39,
   "id": "43b1fa19-19ea-4b4d-8e1d-33d4afc64024",
   "metadata": {},
   "outputs": [
    {
     "data": {
      "text/plain": [
       "{'delta': 0.1,\n",
       " 'rho': 1.0,\n",
       " 'nu': 0.616924082661425,\n",
       " 'beta': 0.604797385420912,\n",
       " 'alpha': 0.2,\n",
       " 'gamma_1': 0.1,\n",
       " 'gamma_2': 0.7}"
      ]
     },
     "execution_count": 39,
     "metadata": {},
     "output_type": "execute_result"
    }
   ],
   "source": [
    "pd"
   ]
  },
  {
   "cell_type": "code",
   "execution_count": null,
   "id": "ed9a2014-af2b-4bea-a4b2-d847ac27b37b",
   "metadata": {},
   "outputs": [],
   "source": []
  },
  {
   "cell_type": "code",
   "execution_count": null,
   "id": "7b2c483b-e302-4a93-8432-ac496bd6ed40",
   "metadata": {},
   "outputs": [],
   "source": []
  },
  {
   "cell_type": "code",
   "execution_count": null,
   "id": "5c1963a1-055d-479a-9647-2fb5ff7d6bcc",
   "metadata": {},
   "outputs": [],
   "source": []
  },
  {
   "cell_type": "code",
   "execution_count": null,
   "id": "96b4c6db-8136-49d9-a58e-d1551a4761aa",
   "metadata": {},
   "outputs": [],
   "source": []
  },
  {
   "cell_type": "code",
   "execution_count": null,
   "id": "23da9e5f-94d9-40e8-a462-c48c3f832ebf",
   "metadata": {},
   "outputs": [],
   "source": []
  }
 ],
 "metadata": {
  "kernelspec": {
   "display_name": "Python 3 (ipykernel)",
   "language": "python",
   "name": "python3"
  },
  "language_info": {
   "codemirror_mode": {
    "name": "ipython",
    "version": 3
   },
   "file_extension": ".py",
   "mimetype": "text/x-python",
   "name": "python",
   "nbconvert_exporter": "python",
   "pygments_lexer": "ipython3",
   "version": "3.12.2"
  }
 },
 "nbformat": 4,
 "nbformat_minor": 5
}
